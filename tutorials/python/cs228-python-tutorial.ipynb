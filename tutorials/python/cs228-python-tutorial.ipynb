{
  "nbformat": 4,
  "nbformat_minor": 0,
  "metadata": {
    "colab": {
      "name": "cs228-python-tutorial.ipynb",
      "version": "0.3.2",
      "provenance": []
    },
    "kernelspec": {
      "name": "python3",
      "display_name": "Python 3"
    }
  },
  "cells": [
    {
      "metadata": {
        "id": "72ZCFclsvQmW",
        "colab_type": "text"
      },
      "cell_type": "markdown",
      "source": [
        "#Python Tutorial"
      ]
    },
    {
      "metadata": {
        "id": "XrN-ATxHvQmZ",
        "colab_type": "text"
      },
      "cell_type": "markdown",
      "source": [
        "##Introduction"
      ]
    },
    {
      "metadata": {
        "id": "95dv1cFivQma",
        "colab_type": "text"
      },
      "cell_type": "markdown",
      "source": [
        "Python is a great general-purpose programming language on its own, but with the help of a few popular libraries (numpy, scipy, matplotlib) it becomes a powerful environment for scientific computing.\n",
        "\n",
        "We expect that many of you will have some experience with Python and numpy; for the rest of you, this section will serve as a quick crash course both on the Python programming language and on the use of Python for scientific computing.\n",
        "\n",
        "Some of you may have previous knowledge in Matlab, in which case we also recommend the numpy for Matlab users page (https://docs.scipy.org/doc/numpy-dev/user/numpy-for-matlab-users.html)."
      ]
    },
    {
      "metadata": {
        "id": "Eet5v7bEvQma",
        "colab_type": "text"
      },
      "cell_type": "markdown",
      "source": [
        "In this tutorial, we will cover:\n",
        "\n",
        "* Basic Python: Basic data types (Containers, Lists, Dictionaries, Sets, Tuples), Functions, Classes\n",
        "* Numpy: Arrays, Array indexing, Datatypes, Array math, Broadcasting\n",
        "* Matplotlib: Plotting, Subplots, Images\n",
        "* IPython: Creating notebooks, Typical workflows"
      ]
    },
    {
      "metadata": {
        "id": "1cp0I7KcvQmc",
        "colab_type": "text"
      },
      "cell_type": "markdown",
      "source": [
        "##Basics of Python"
      ]
    },
    {
      "metadata": {
        "id": "PLSdfWVYvQmc",
        "colab_type": "text"
      },
      "cell_type": "markdown",
      "source": [
        "Python is a high-level, dynamically typed multiparadigm programming language. Python code is often said to be almost like pseudocode, since it allows you to express very powerful ideas in very few lines of code while being very readable. As an example, here is an implementation of the classic quicksort algorithm in Python:"
      ]
    },
    {
      "metadata": {
        "id": "kQVCW_vdvQmd",
        "colab_type": "code",
        "colab": {
          "base_uri": "https://localhost:8080/",
          "height": 34
        },
        "outputId": "8cfd6816-de24-48f5-d9f3-4ce097652229"
      },
      "cell_type": "code",
      "source": [
        "def quicksort(arr):\n",
        "    if len(arr) <= 1:\n",
        "        return arr\n",
        "    pivot = arr[len(arr) // 2]\n",
        "    left = [x for x in arr if x < pivot]\n",
        "    middle = [x for x in arr if x == pivot]\n",
        "    right = [x for x in arr if x > pivot]\n",
        "    return quicksort(left) + middle + quicksort(right)\n",
        "\n",
        "print(quicksort([3,6,8,10,1,2,1]))"
      ],
      "execution_count": 2,
      "outputs": [
        {
          "output_type": "stream",
          "text": [
            "[1, 1, 2, 3, 6, 8, 10]\n"
          ],
          "name": "stdout"
        }
      ]
    },
    {
      "metadata": {
        "id": "dji3rmEMvQmj",
        "colab_type": "text"
      },
      "cell_type": "markdown",
      "source": [
        "###Python versions"
      ]
    },
    {
      "metadata": {
        "id": "YqToYeskvQmk",
        "colab_type": "text"
      },
      "cell_type": "markdown",
      "source": [
        "There are currently two different supported versions of Python, 2.7 and 3.7. Somewhat confusingly, Python 3.0 introduced many backwards-incompatible changes to the language, so code written for 2.7 may not work under 3.7 and vice versa. For this class all code will use Python 3.7.\n",
        "\n",
        "You can check your Python version at the command line by running `python --version`."
      ]
    },
    {
      "metadata": {
        "id": "3OQmOIszvQmk",
        "colab_type": "text"
      },
      "cell_type": "markdown",
      "source": [
        "###Basic data types"
      ]
    },
    {
      "metadata": {
        "id": "UgnwDwPuvQmm",
        "colab_type": "text"
      },
      "cell_type": "markdown",
      "source": [
        "####Numbers"
      ]
    },
    {
      "metadata": {
        "id": "38AHx7XfvQmn",
        "colab_type": "text"
      },
      "cell_type": "markdown",
      "source": [
        "Integers and floats work as you would expect from other languages:"
      ]
    },
    {
      "metadata": {
        "id": "W4IvvfhMvQmo",
        "colab_type": "code",
        "colab": {
          "base_uri": "https://localhost:8080/",
          "height": 51
        },
        "outputId": "354390eb-f649-4ea8-a64b-6a9a52669a04"
      },
      "cell_type": "code",
      "source": [
        "x = 3\n",
        "print(x)\n",
        "type(x)"
      ],
      "execution_count": 7,
      "outputs": [
        {
          "output_type": "stream",
          "text": [
            "3\n"
          ],
          "name": "stdout"
        },
        {
          "output_type": "execute_result",
          "data": {
            "text/plain": [
              "int"
            ]
          },
          "metadata": {
            "tags": []
          },
          "execution_count": 7
        }
      ]
    },
    {
      "metadata": {
        "id": "mYVVI8DEvQms",
        "colab_type": "code",
        "colab": {
          "base_uri": "https://localhost:8080/",
          "height": 85
        },
        "outputId": "56394d78-9ef8-4dd8-8ae8-359d8d0671ed"
      },
      "cell_type": "code",
      "source": [
        "print(x + 1)   # Addition;\n",
        "print(x - 1)   # Subtraction;\n",
        "print(x * 2)  # Multiplication;\n",
        "print(x**2)  # Exponentiation;"
      ],
      "execution_count": 8,
      "outputs": [
        {
          "output_type": "stream",
          "text": [
            "4\n",
            "2\n",
            "6\n",
            "9\n"
          ],
          "name": "stdout"
        }
      ]
    },
    {
      "metadata": {
        "id": "OqG15vQSvQmu",
        "colab_type": "code",
        "colab": {
          "base_uri": "https://localhost:8080/",
          "height": 51
        },
        "outputId": "b91561cd-71b2-4f82-ae27-497d63b35f76"
      },
      "cell_type": "code",
      "source": [
        "x += 1\n",
        "print(x)  # Prints \"4\"\n",
        "x *= 2\n",
        "print(x)  # Prints \"8\""
      ],
      "execution_count": 9,
      "outputs": [
        {
          "output_type": "stream",
          "text": [
            "4\n",
            "8\n"
          ],
          "name": "stdout"
        }
      ]
    },
    {
      "metadata": {
        "id": "sMkNUaB0vQmy",
        "colab_type": "code",
        "colab": {
          "base_uri": "https://localhost:8080/",
          "height": 51
        },
        "outputId": "57f28266-1498-49c2-a5a2-62125dd9979c"
      },
      "cell_type": "code",
      "source": [
        "y = 2.5\n",
        "print(type(y)) # Prints \"<class 'float'>\"\n",
        "print(y, y + 1, y * 2, y ** 2) # Prints \"2.5 3.5 5.0 6.25\""
      ],
      "execution_count": 10,
      "outputs": [
        {
          "output_type": "stream",
          "text": [
            "<class 'float'>\n",
            "2.5 3.5 5.0 6.25\n"
          ],
          "name": "stdout"
        }
      ]
    },
    {
      "metadata": {
        "id": "BsDKFiBVvQm2",
        "colab_type": "text"
      },
      "cell_type": "markdown",
      "source": [
        "Note that unlike many languages, Python does not have unary increment (x++) or decrement (x--) operators.\n",
        "\n",
        "Python also has built-in types for long integers and complex numbers; you can find all of the details in the [documentation](https://docs.python.org/2/library/stdtypes.html#numeric-types-int-float-long-complex)."
      ]
    },
    {
      "metadata": {
        "id": "KtVuFvQBvQm3",
        "colab_type": "text"
      },
      "cell_type": "markdown",
      "source": [
        "####Booleans"
      ]
    },
    {
      "metadata": {
        "id": "JX_nbq6KvQm4",
        "colab_type": "text"
      },
      "cell_type": "markdown",
      "source": [
        "Python implements all of the usual operators for Boolean logic, but uses English words rather than symbols (`&&`, `||`, etc.):"
      ]
    },
    {
      "metadata": {
        "id": "C2evoIZJvQm5",
        "colab_type": "code",
        "colab": {
          "base_uri": "https://localhost:8080/",
          "height": 34
        },
        "outputId": "98fc3221-4c4f-4599-d0ea-834f2a912ee1"
      },
      "cell_type": "code",
      "source": [
        "t, f = True, False\n",
        "print(type(t)) # Prints \"<type 'bool'>\""
      ],
      "execution_count": 11,
      "outputs": [
        {
          "output_type": "stream",
          "text": [
            "<class 'bool'>\n"
          ],
          "name": "stdout"
        }
      ]
    },
    {
      "metadata": {
        "id": "0eUyXOnUvQm8",
        "colab_type": "text"
      },
      "cell_type": "markdown",
      "source": [
        "Now we let's look at the operations:"
      ]
    },
    {
      "metadata": {
        "id": "shbwXPCLvQm9",
        "colab_type": "code",
        "colab": {
          "base_uri": "https://localhost:8080/",
          "height": 85
        },
        "outputId": "944d7beb-df8e-491d-8a34-12a0ce11d7d3"
      },
      "cell_type": "code",
      "source": [
        "print(t and f) # Logical AND;\n",
        "print(t or f)  # Logical OR;\n",
        "print(not t)   # Logical NOT;\n",
        "print(t != f)  # Logical XOR;"
      ],
      "execution_count": 12,
      "outputs": [
        {
          "output_type": "stream",
          "text": [
            "False\n",
            "True\n",
            "False\n",
            "True\n"
          ],
          "name": "stdout"
        }
      ]
    },
    {
      "metadata": {
        "id": "S01W2ZNVvQnA",
        "colab_type": "text"
      },
      "cell_type": "markdown",
      "source": [
        "####Strings"
      ]
    },
    {
      "metadata": {
        "id": "sROVr5qMvQnB",
        "colab_type": "code",
        "colab": {
          "base_uri": "https://localhost:8080/",
          "height": 34
        },
        "outputId": "fa399b20-0976-4921-9ed5-841f0cd3361b"
      },
      "cell_type": "code",
      "source": [
        "hello = 'hello'   # String literals can use single quotes\n",
        "world = \"world\"   # or double quotes; it does not matter.\n",
        "print(hello, len(hello))"
      ],
      "execution_count": 13,
      "outputs": [
        {
          "output_type": "stream",
          "text": [
            "hello 5\n"
          ],
          "name": "stdout"
        }
      ]
    },
    {
      "metadata": {
        "id": "onfYkW9rvQnD",
        "colab_type": "code",
        "colab": {
          "base_uri": "https://localhost:8080/",
          "height": 34
        },
        "outputId": "cd83d1f0-8936-4b70-b920-e328fbd968ca"
      },
      "cell_type": "code",
      "source": [
        "hw = hello + ' ' + world  # String concatenation\n",
        "print(hw)  # prints \"hello world\""
      ],
      "execution_count": 14,
      "outputs": [
        {
          "output_type": "stream",
          "text": [
            "hello world\n"
          ],
          "name": "stdout"
        }
      ]
    },
    {
      "metadata": {
        "id": "OP1-fZgWvQnL",
        "colab_type": "text"
      },
      "cell_type": "markdown",
      "source": [
        "String objects have a bunch of useful methods; for example:"
      ]
    },
    {
      "metadata": {
        "id": "j-6okkLCvQnN",
        "colab_type": "code",
        "colab": {
          "base_uri": "https://localhost:8080/",
          "height": 119
        },
        "outputId": "0b2e4ef4-ebe8-4f2b-a5b9-f962521bbade"
      },
      "cell_type": "code",
      "source": [
        "s = \"hello\"\n",
        "print(s.capitalize())  # Capitalize a string; prints \"Hello\"\n",
        "print(s.upper())       # Convert a string to uppercase; prints \"HELLO\"\n",
        "print(s.rjust(7))      # Right-justify a string, padding with spaces; prints \"  hello\"\n",
        "print(s.center(7))     # Center a string, padding with spaces; prints \" hello \"\n",
        "print(s.replace('l', '(ell)'))  # Replace all instances of one substring with another;\n",
        "                               # prints \"he(ell)(ell)o\"\n",
        "print('  world '.strip())  # Strip leading and trailing whitespace; prints \"world\""
      ],
      "execution_count": 15,
      "outputs": [
        {
          "output_type": "stream",
          "text": [
            "Hello\n",
            "HELLO\n",
            "  hello\n",
            " hello \n",
            "he(ell)(ell)o\n",
            "world\n"
          ],
          "name": "stdout"
        }
      ]
    },
    {
      "metadata": {
        "id": "t6w22m0f1VDU",
        "colab_type": "code",
        "colab": {
          "base_uri": "https://localhost:8080/",
          "height": 34
        },
        "outputId": "08ce20e5-dae2-4b7d-815a-ded55cb6804f"
      },
      "cell_type": "code",
      "source": [
        "hw12 = '{} {} {}'.format(hello, world, 12)  # str.format style string formatting\n",
        "print(hw12)  # prints \"hello world 12\""
      ],
      "execution_count": 33,
      "outputs": [
        {
          "output_type": "stream",
          "text": [
            "hello world 12\n"
          ],
          "name": "stdout"
        }
      ]
    },
    {
      "metadata": {
        "id": "nujcWH3qvQnP",
        "colab_type": "text"
      },
      "cell_type": "markdown",
      "source": [
        "You can find a list of all string methods in the [documentation](https://docs.python.org/2/library/stdtypes.html#string-methods)."
      ]
    },
    {
      "metadata": {
        "id": "q-mwC15hvQnQ",
        "colab_type": "text"
      },
      "cell_type": "markdown",
      "source": [
        "###Containers"
      ]
    },
    {
      "metadata": {
        "id": "ptFZ0xRUvQnR",
        "colab_type": "text"
      },
      "cell_type": "markdown",
      "source": [
        "Python includes several built-in container types: lists, dictionaries, sets, and tuples."
      ]
    },
    {
      "metadata": {
        "id": "qp1QZaIdvQnS",
        "colab_type": "text"
      },
      "cell_type": "markdown",
      "source": [
        "####Lists"
      ]
    },
    {
      "metadata": {
        "id": "aWZ78GmnvQnS",
        "colab_type": "text"
      },
      "cell_type": "markdown",
      "source": [
        "A list is the Python equivalent of an array, but is resizeable and can contain elements of different types:"
      ]
    },
    {
      "metadata": {
        "id": "GSULLrAivQnT",
        "colab_type": "code",
        "colab": {
          "base_uri": "https://localhost:8080/",
          "height": 51
        },
        "outputId": "abdea628-a4a6-49f4-d043-b71217b54d7e"
      },
      "cell_type": "code",
      "source": [
        "xs = [3, 1, 2]   # Create a list\n",
        "print(xs, xs[2])\n",
        "print(xs[-1])     # Negative indices count from the end of the list; prints \"2\""
      ],
      "execution_count": 16,
      "outputs": [
        {
          "output_type": "stream",
          "text": [
            "[3, 1, 2] 2\n",
            "2\n"
          ],
          "name": "stdout"
        }
      ]
    },
    {
      "metadata": {
        "id": "Kb-Mx8rtvQnX",
        "colab_type": "code",
        "colab": {
          "base_uri": "https://localhost:8080/",
          "height": 34
        },
        "outputId": "0eaa1e2f-f646-4ab8-9713-465ca7313f4b"
      },
      "cell_type": "code",
      "source": [
        "xs[2] = 'foo'    # Lists can contain elements of different types\n",
        "print(xs)"
      ],
      "execution_count": 17,
      "outputs": [
        {
          "output_type": "stream",
          "text": [
            "[3, 1, 'foo']\n"
          ],
          "name": "stdout"
        }
      ]
    },
    {
      "metadata": {
        "id": "9m7dL0y_vQnb",
        "colab_type": "code",
        "colab": {
          "base_uri": "https://localhost:8080/",
          "height": 34
        },
        "outputId": "0479302a-fa8b-43f4-d8d9-507efcdb9b41"
      },
      "cell_type": "code",
      "source": [
        "xs.append('bar') # Add a new element to the end of the list\n",
        "print(xs)  "
      ],
      "execution_count": 18,
      "outputs": [
        {
          "output_type": "stream",
          "text": [
            "[3, 1, 'foo', 'bar']\n"
          ],
          "name": "stdout"
        }
      ]
    },
    {
      "metadata": {
        "id": "IbqDhX8ovQng",
        "colab_type": "code",
        "colab": {
          "base_uri": "https://localhost:8080/",
          "height": 34
        },
        "outputId": "b144c389-e620-4b76-d0ef-384553c27f5e"
      },
      "cell_type": "code",
      "source": [
        "x = xs.pop()     # Remove and return the last element of the list\n",
        "print(x, xs) "
      ],
      "execution_count": 19,
      "outputs": [
        {
          "output_type": "stream",
          "text": [
            "bar [3, 1, 'foo']\n"
          ],
          "name": "stdout"
        }
      ]
    },
    {
      "metadata": {
        "id": "skvsIbQrvQni",
        "colab_type": "text"
      },
      "cell_type": "markdown",
      "source": [
        "As usual, you can find all the gory details about lists in the [documentation](https://docs.python.org/2/tutorial/datastructures.html#more-on-lists)."
      ]
    },
    {
      "metadata": {
        "id": "WzZz3Y8bvQnj",
        "colab_type": "text"
      },
      "cell_type": "markdown",
      "source": [
        "####Slicing"
      ]
    },
    {
      "metadata": {
        "id": "zn49KC2vvQnj",
        "colab_type": "text"
      },
      "cell_type": "markdown",
      "source": [
        "In addition to accessing list elements one at a time, Python provides concise syntax to access sublists; this is known as slicing:"
      ]
    },
    {
      "metadata": {
        "id": "RPlQzxtyvQnk",
        "colab_type": "code",
        "colab": {
          "base_uri": "https://localhost:8080/",
          "height": 136
        },
        "outputId": "bc33cc42-aa59-41db-c8ed-c56011bdcb93"
      },
      "cell_type": "code",
      "source": [
        "nums = list(range(5))    # range is a built-in function that creates a sequence of integers\n",
        "print(nums)         # Prints \"[0, 1, 2, 3, 4]\"\n",
        "print(nums[2:4])    # Get a slice from index 2 to 4 (exclusive); prints \"[2, 3]\"\n",
        "print(nums[2:])     # Get a slice from index 2 to the end; prints \"[2, 3, 4]\"\n",
        "print(nums[:2])     # Get a slice from the start to index 2 (exclusive); prints \"[0, 1]\"\n",
        "print(nums[:])      # Get a slice of the whole list; prints [\"0, 1, 2, 3, 4]\"\n",
        "print(nums[:-1])    # Slice indices can be negative; prints [\"0, 1, 2, 3]\"\n",
        "nums[2:4] = [8, 9] # Assign a new sublist to a slice\n",
        "print(nums)         # Prints \"[0, 1, 8, 9, 4]\""
      ],
      "execution_count": 23,
      "outputs": [
        {
          "output_type": "stream",
          "text": [
            "[0, 1, 2, 3, 4]\n",
            "[2, 3]\n",
            "[2, 3, 4]\n",
            "[0, 1]\n",
            "[0, 1, 2, 3, 4]\n",
            "[0, 1, 2, 3]\n",
            "[0, 1, 8, 9, 4]\n"
          ],
          "name": "stdout"
        }
      ]
    },
    {
      "metadata": {
        "id": "yGI6fgWavQno",
        "colab_type": "text"
      },
      "cell_type": "markdown",
      "source": [
        "####Loops"
      ]
    },
    {
      "metadata": {
        "id": "3BIgf_ifvQno",
        "colab_type": "text"
      },
      "cell_type": "markdown",
      "source": [
        "You can loop over the elements of a list like this:"
      ]
    },
    {
      "metadata": {
        "id": "7Ap7gy-cvQno",
        "colab_type": "code",
        "colab": {
          "base_uri": "https://localhost:8080/",
          "height": 68
        },
        "outputId": "d7aab663-bd2f-4f90-e472-89e43f644f5c"
      },
      "cell_type": "code",
      "source": [
        "animals = ['cat', 'dog', 'monkey']\n",
        "for animal in animals:\n",
        "    print(animal)"
      ],
      "execution_count": 28,
      "outputs": [
        {
          "output_type": "stream",
          "text": [
            "cat\n",
            "dog\n",
            "monkey\n"
          ],
          "name": "stdout"
        }
      ]
    },
    {
      "metadata": {
        "id": "ZjAnlefkvQnr",
        "colab_type": "text"
      },
      "cell_type": "markdown",
      "source": [
        "If you want access to the index of each element within the body of a loop, use the built-in `enumerate` function:"
      ]
    },
    {
      "metadata": {
        "id": "MZAJQBXQvQns",
        "colab_type": "code",
        "colab": {
          "base_uri": "https://localhost:8080/",
          "height": 68
        },
        "outputId": "e227f531-f3b4-4982-cb94-9532d0e2dee1"
      },
      "cell_type": "code",
      "source": [
        "animals = ['cat', 'dog', 'monkey']\n",
        "for idx, animal in enumerate(animals):\n",
        "    print('#{}: {}'.format(idx + 1, animal))"
      ],
      "execution_count": 32,
      "outputs": [
        {
          "output_type": "stream",
          "text": [
            "#1: cat\n",
            "#2: dog\n",
            "#3: monkey\n"
          ],
          "name": "stdout"
        }
      ]
    },
    {
      "metadata": {
        "id": "aYsIcqFrvQnv",
        "colab_type": "text"
      },
      "cell_type": "markdown",
      "source": [
        "####List comprehensions:"
      ]
    },
    {
      "metadata": {
        "id": "6UCyicaLvQnv",
        "colab_type": "text"
      },
      "cell_type": "markdown",
      "source": [
        "When programming, frequently we want to transform one type of data into another. As a simple example, consider the following code that computes square numbers:"
      ]
    },
    {
      "metadata": {
        "id": "Ax_NzyZovQnx",
        "colab_type": "code",
        "colab": {
          "base_uri": "https://localhost:8080/",
          "height": 34
        },
        "outputId": "f9a34b0f-294e-4fd7-a2f4-5b5b76a6b0af"
      },
      "cell_type": "code",
      "source": [
        "nums = [0, 1, 2, 3, 4]\n",
        "squares = []\n",
        "for x in nums:\n",
        "    squares.append(x ** 2)\n",
        "print(squares)"
      ],
      "execution_count": 34,
      "outputs": [
        {
          "output_type": "stream",
          "text": [
            "[0, 1, 4, 9, 16]\n"
          ],
          "name": "stdout"
        }
      ]
    },
    {
      "metadata": {
        "id": "SUtNcgzovQnz",
        "colab_type": "text"
      },
      "cell_type": "markdown",
      "source": [
        "You can make this code simpler using a list comprehension:"
      ]
    },
    {
      "metadata": {
        "id": "TUyR3cdSvQn0",
        "colab_type": "code",
        "colab": {},
        "outputId": "737f5e9d-5300-496a-e9fd-e3bab67ff641"
      },
      "cell_type": "code",
      "source": [
        "nums = [0, 1, 2, 3, 4]\n",
        "squares = [x ** 2 for x in nums]\n",
        "print(squares)"
      ],
      "execution_count": 0,
      "outputs": [
        {
          "output_type": "stream",
          "text": [
            "[0, 1, 4, 9, 16]\n"
          ],
          "name": "stdout"
        }
      ]
    },
    {
      "metadata": {
        "id": "CHQ6_r7wvQn2",
        "colab_type": "text"
      },
      "cell_type": "markdown",
      "source": [
        "List comprehensions can also contain conditions:"
      ]
    },
    {
      "metadata": {
        "id": "xYimXvaevQn3",
        "colab_type": "code",
        "colab": {
          "base_uri": "https://localhost:8080/",
          "height": 34
        },
        "outputId": "42493a73-51ec-4af2-c32c-17a6471a2dc4"
      },
      "cell_type": "code",
      "source": [
        "nums = [0, 1, 2, 3, 4]\n",
        "even_squares = [x ** 2 for x in nums if x % 2 == 0]\n",
        "print(even_squares)"
      ],
      "execution_count": 35,
      "outputs": [
        {
          "output_type": "stream",
          "text": [
            "[0, 4, 16]\n"
          ],
          "name": "stdout"
        }
      ]
    },
    {
      "metadata": {
        "id": "UvG81pGxvQn5",
        "colab_type": "text"
      },
      "cell_type": "markdown",
      "source": [
        "####Dictionaries"
      ]
    },
    {
      "metadata": {
        "id": "9f22KGVzvQn6",
        "colab_type": "text"
      },
      "cell_type": "markdown",
      "source": [
        "A dictionary stores (key, value) pairs, similar to a `Map` in Java or an object in Javascript. You can use it like this:"
      ]
    },
    {
      "metadata": {
        "id": "RctG03AavQn6",
        "colab_type": "code",
        "colab": {},
        "outputId": "017cd50a-5e71-478e-b99c-a2ed6743dafd"
      },
      "cell_type": "code",
      "source": [
        "d = {'cat': 'cute', 'dog': 'furry'}  # Create a new dictionary with some data\n",
        "print(d['cat']       # Get an entry from a dictionary; prints \"cute\"\n",
        "print('cat' in d     # Check if a dictionary has a given key; prints \"True\""
      ],
      "execution_count": 0,
      "outputs": [
        {
          "output_type": "stream",
          "text": [
            "cute\n",
            "True\n"
          ],
          "name": "stdout"
        }
      ]
    },
    {
      "metadata": {
        "id": "96ijN0k-vQn9",
        "colab_type": "code",
        "colab": {},
        "outputId": "f6693f8d-e4aa-46c8-cef6-867163af68f9"
      },
      "cell_type": "code",
      "source": [
        "d['fish'] = 'wet'    # Set an entry in a dictionary\n",
        "print(d['fish']      # Prints \"wet\""
      ],
      "execution_count": 0,
      "outputs": [
        {
          "output_type": "stream",
          "text": [
            "wet\n"
          ],
          "name": "stdout"
        }
      ]
    },
    {
      "metadata": {
        "id": "vz31qDRTvQn_",
        "colab_type": "code",
        "colab": {},
        "outputId": "f7f4dd80-aebf-468d-e5e1-feed62e0cb20"
      },
      "cell_type": "code",
      "source": [
        "print(d['monkey']  # KeyError: 'monkey' not a key of d"
      ],
      "execution_count": 0,
      "outputs": [
        {
          "output_type": "error",
          "ename": "KeyError",
          "evalue": "'monkey'",
          "traceback": [
            "\u001b[0;31m---------------------------------------------------------------------------\u001b[0m\n\u001b[0;31mKeyError\u001b[0m                                  Traceback (most recent call last)",
            "\u001b[0;32m<ipython-input-161-85f0c5ba0fa7>\u001b[0m in \u001b[0;36m<module>\u001b[0;34m()\u001b[0m\n\u001b[0;32m----> 1\u001b[0;31m \u001b[0;32mprint\u001b[0m \u001b[0md\u001b[0m\u001b[0;34m[\u001b[0m\u001b[0;34m'monkey'\u001b[0m\u001b[0;34m]\u001b[0m  \u001b[0;31m# KeyError: 'monkey' not a key of d\u001b[0m\u001b[0;34m\u001b[0m\u001b[0m\n\u001b[0m",
            "\u001b[0;31mKeyError\u001b[0m: 'monkey'"
          ]
        }
      ]
    },
    {
      "metadata": {
        "id": "lFEkVaWXvQoF",
        "colab_type": "code",
        "colab": {},
        "outputId": "83093a92-0ec4-4770-b8a3-b19e2c07c3c4"
      },
      "cell_type": "code",
      "source": [
        "print(d.get('monkey', 'N/A')  # Get an element with a default; prints \"N/A\"\n",
        "print(d.get('fish', 'N/A')    # Get an element with a default; prints \"wet\""
      ],
      "execution_count": 0,
      "outputs": [
        {
          "output_type": "stream",
          "text": [
            "N/A\n",
            "wet\n"
          ],
          "name": "stdout"
        }
      ]
    },
    {
      "metadata": {
        "id": "zTMF5SGovQoJ",
        "colab_type": "code",
        "colab": {},
        "outputId": "2234b0c3-8b24-4c62-8f7c-607575225cfc"
      },
      "cell_type": "code",
      "source": [
        "del d['fish']        # Remove an element from a dictionary\n",
        "print(d.get('fish', 'N/A') # \"fish\" is no longer a key; prints \"N/A\""
      ],
      "execution_count": 0,
      "outputs": [
        {
          "output_type": "stream",
          "text": [
            "N/A\n"
          ],
          "name": "stdout"
        }
      ]
    },
    {
      "metadata": {
        "id": "_VsTWsLHvQoL",
        "colab_type": "text"
      },
      "cell_type": "markdown",
      "source": [
        "You can find all you need to know about dictionaries in the [documentation](https://docs.python.org/2/library/stdtypes.html#dict)."
      ]
    },
    {
      "metadata": {
        "id": "FEz1--vnvQoM",
        "colab_type": "text"
      },
      "cell_type": "markdown",
      "source": [
        "It is easy to iterate over the keys in a dictionary:"
      ]
    },
    {
      "metadata": {
        "id": "oZmQ41-BvQoN",
        "colab_type": "code",
        "colab": {},
        "outputId": "5f676510-7081-439c-ee5f-963c0ea9c46e"
      },
      "cell_type": "code",
      "source": [
        "d = {'person': 2, 'cat': 4, 'spider': 8}\n",
        "for animal in d:\n",
        "    legs = d[animal]\n",
        "    print('A %s has %d legs' % (animal, legs)"
      ],
      "execution_count": 0,
      "outputs": [
        {
          "output_type": "stream",
          "text": [
            "A person has 2 legs\n",
            "A spider has 8 legs\n",
            "A cat has 4 legs\n"
          ],
          "name": "stdout"
        }
      ]
    },
    {
      "metadata": {
        "id": "QSwxr7asvQoQ",
        "colab_type": "text"
      },
      "cell_type": "markdown",
      "source": [
        "If you want access to keys and their corresponding values, use the iteritems method:"
      ]
    },
    {
      "metadata": {
        "id": "7qa2i5g5vQoR",
        "colab_type": "code",
        "colab": {},
        "outputId": "017197a3-2524-46a7-808d-33d41a85d884"
      },
      "cell_type": "code",
      "source": [
        "d = {'person': 2, 'cat': 4, 'spider': 8}\n",
        "for animal, legs in d.iteritems():\n",
        "    print('A %s has %d legs' % (animal, legs)"
      ],
      "execution_count": 0,
      "outputs": [
        {
          "output_type": "stream",
          "text": [
            "A person has 2 legs\n",
            "A spider has 8 legs\n",
            "A cat has 4 legs\n"
          ],
          "name": "stdout"
        }
      ]
    },
    {
      "metadata": {
        "id": "ob-yBSqjvQoT",
        "colab_type": "text"
      },
      "cell_type": "markdown",
      "source": [
        "Dictionary comprehensions: These are similar to list comprehensions, but allow you to easily construct dictionaries. For example:"
      ]
    },
    {
      "metadata": {
        "id": "wEo-4hEavQoT",
        "colab_type": "code",
        "colab": {},
        "outputId": "bc24640c-e796-4c93-ea2d-c262cad5c832"
      },
      "cell_type": "code",
      "source": [
        "nums = [0, 1, 2, 3, 4]\n",
        "even_num_to_square = {x: x ** 2 for x in nums if x % 2 == 0}\n",
        "print(even_num_to_square"
      ],
      "execution_count": 0,
      "outputs": [
        {
          "output_type": "stream",
          "text": [
            "{0: 0, 2: 4, 4: 16}\n"
          ],
          "name": "stdout"
        }
      ]
    },
    {
      "metadata": {
        "id": "Y3H6vn-LvQoW",
        "colab_type": "text"
      },
      "cell_type": "markdown",
      "source": [
        "####Sets"
      ]
    },
    {
      "metadata": {
        "id": "tVyvt6ZIvQoX",
        "colab_type": "text"
      },
      "cell_type": "markdown",
      "source": [
        "A set is an unordered collection of distinct elements. As a simple example, consider the following:"
      ]
    },
    {
      "metadata": {
        "id": "EkEOUW2UvQoX",
        "colab_type": "code",
        "colab": {},
        "outputId": "6d82ead8-80d6-457d-b3b0-e2cf05fb908b"
      },
      "cell_type": "code",
      "source": [
        "animals = {'cat', 'dog'}\n",
        "print('cat' in animals   # Check if an element is in a set; prints \"True\"\n",
        "print('fish' in animals  # prints \"False\"\n"
      ],
      "execution_count": 0,
      "outputs": [
        {
          "output_type": "stream",
          "text": [
            "True\n",
            "False\n"
          ],
          "name": "stdout"
        }
      ]
    },
    {
      "metadata": {
        "id": "nndwjhDevQod",
        "colab_type": "code",
        "colab": {},
        "outputId": "50524b1b-d6ca-46ae-d747-279b4e8bbbba"
      },
      "cell_type": "code",
      "source": [
        "animals.add('fish')      # Add an element to a set\n",
        "print('fish' in animals\n",
        "print(len(animals)       # Number of elements in a set;"
      ],
      "execution_count": 0,
      "outputs": [
        {
          "output_type": "stream",
          "text": [
            "True\n",
            "3\n"
          ],
          "name": "stdout"
        }
      ]
    },
    {
      "metadata": {
        "id": "fix3PBF8vQof",
        "colab_type": "code",
        "colab": {},
        "outputId": "63fff688-dcd3-49a7-f693-7b5ff3a82f8b"
      },
      "cell_type": "code",
      "source": [
        "animals.add('cat')       # Adding an element that is already in the set does nothing\n",
        "print(len(animals)       \n",
        "animals.remove('cat')    # Remove an element from a set\n",
        "print(len(animals)       "
      ],
      "execution_count": 0,
      "outputs": [
        {
          "output_type": "stream",
          "text": [
            "3\n",
            "2\n"
          ],
          "name": "stdout"
        }
      ]
    },
    {
      "metadata": {
        "id": "10sSzRw3vQok",
        "colab_type": "text"
      },
      "cell_type": "markdown",
      "source": [
        "_Loops_: Iterating over a set has the same syntax as iterating over a list; however since sets are unordered, you cannot make assumptions about the order in which you visit the elements of the set:"
      ]
    },
    {
      "metadata": {
        "id": "AH5iAXEJvQol",
        "colab_type": "code",
        "colab": {},
        "outputId": "529a6832-02d5-4605-dbfd-72331412baad"
      },
      "cell_type": "code",
      "source": [
        "animals = {'cat', 'dog', 'fish'}\n",
        "for idx, animal in enumerate(animals):\n",
        "    print('#%d: %s' % (idx + 1, animal)\n",
        "# Prints \"#1: fish\", \"#2: dog\", \"#3: cat\""
      ],
      "execution_count": 0,
      "outputs": [
        {
          "output_type": "stream",
          "text": [
            "#1: fish\n",
            "#2: dog\n",
            "#3: cat\n"
          ],
          "name": "stdout"
        }
      ]
    },
    {
      "metadata": {
        "id": "6WXQMA2_vQoo",
        "colab_type": "text"
      },
      "cell_type": "markdown",
      "source": [
        "Set comprehensions: Like lists and dictionaries, we can easily construct sets using set comprehensions:"
      ]
    },
    {
      "metadata": {
        "id": "4rpAzZasvQoo",
        "colab_type": "code",
        "colab": {},
        "outputId": "93a7240f-5840-4b84-d381-63f2b9af5025"
      },
      "cell_type": "code",
      "source": [
        "from math import sqrt\n",
        "print({int(sqrt(x)) for x in range(30)}"
      ],
      "execution_count": 0,
      "outputs": [
        {
          "output_type": "stream",
          "text": [
            "set([0, 1, 2, 3, 4, 5])\n"
          ],
          "name": "stdout"
        }
      ]
    },
    {
      "metadata": {
        "id": "r0qhJ37fvQor",
        "colab_type": "text"
      },
      "cell_type": "markdown",
      "source": [
        "####Tuples"
      ]
    },
    {
      "metadata": {
        "id": "IXLrdU_ovQor",
        "colab_type": "text"
      },
      "cell_type": "markdown",
      "source": [
        "A tuple is an (immutable) ordered list of values. A tuple is in many ways similar to a list; one of the most important differences is that tuples can be used as keys in dictionaries and as elements of sets, while lists cannot. Here is a trivial example:"
      ]
    },
    {
      "metadata": {
        "id": "70xgoALMvQor",
        "colab_type": "code",
        "colab": {},
        "outputId": "8b2410c1-b913-4de8-c31b-d71d533c5a39"
      },
      "cell_type": "code",
      "source": [
        "d = {(x, x + 1): x for x in range(10)}  # Create a dictionary with tuple keys\n",
        "t = (5, 6)       # Create a tuple\n",
        "print(type(t)\n",
        "print(d[t]       \n",
        "print(d[(1, 2)]"
      ],
      "execution_count": 0,
      "outputs": [
        {
          "output_type": "stream",
          "text": [
            "<type 'tuple'>\n",
            "5\n",
            "1\n"
          ],
          "name": "stdout"
        }
      ]
    },
    {
      "metadata": {
        "id": "59kzMrBTvQot",
        "colab_type": "code",
        "colab": {},
        "outputId": "2d7007c1-30b3-43d6-8a72-5447efc7dcc5"
      },
      "cell_type": "code",
      "source": [
        "t[0] = 1"
      ],
      "execution_count": 0,
      "outputs": [
        {
          "output_type": "error",
          "ename": "TypeError",
          "evalue": "'tuple' object does not support item assignment",
          "traceback": [
            "\u001b[0;31m---------------------------------------------------------------------------\u001b[0m\n\u001b[0;31mTypeError\u001b[0m                                 Traceback (most recent call last)",
            "\u001b[0;32m<ipython-input-176-0a69537257d5>\u001b[0m in \u001b[0;36m<module>\u001b[0;34m()\u001b[0m\n\u001b[0;32m----> 1\u001b[0;31m \u001b[0mt\u001b[0m\u001b[0;34m[\u001b[0m\u001b[0;36m0\u001b[0m\u001b[0;34m]\u001b[0m \u001b[0;34m=\u001b[0m \u001b[0;36m1\u001b[0m\u001b[0;34m\u001b[0m\u001b[0m\n\u001b[0m",
            "\u001b[0;31mTypeError\u001b[0m: 'tuple' object does not support item assignment"
          ]
        }
      ]
    },
    {
      "metadata": {
        "id": "_FicRc81vQov",
        "colab_type": "text"
      },
      "cell_type": "markdown",
      "source": [
        "###Functions"
      ]
    },
    {
      "metadata": {
        "id": "Anq3xFZBvQow",
        "colab_type": "text"
      },
      "cell_type": "markdown",
      "source": [
        "Python functions are defined using the `def` keyword. For example:"
      ]
    },
    {
      "metadata": {
        "id": "eQXYVafPvQow",
        "colab_type": "code",
        "colab": {},
        "outputId": "724a0095-d307-49ae-ac80-5feb71dc550e"
      },
      "cell_type": "code",
      "source": [
        "def sign(x):\n",
        "    if x > 0:\n",
        "        return 'positive'\n",
        "    elif x < 0:\n",
        "        return 'negative'\n",
        "    else:\n",
        "        return 'zero'\n",
        "\n",
        "for x in [-1, 0, 1]:\n",
        "    print(sign(x)"
      ],
      "execution_count": 0,
      "outputs": [
        {
          "output_type": "stream",
          "text": [
            "negative\n",
            "zero\n",
            "positive\n"
          ],
          "name": "stdout"
        }
      ]
    },
    {
      "metadata": {
        "id": "i9EV7IPtvQox",
        "colab_type": "text"
      },
      "cell_type": "markdown",
      "source": [
        "We will often define functions to take optional keyword arguments, like this:"
      ]
    },
    {
      "metadata": {
        "id": "pRQCk6aZvQoz",
        "colab_type": "code",
        "colab": {},
        "outputId": "19650640-8048-406e-89b7-7a56a643e5e6"
      },
      "cell_type": "code",
      "source": [
        "def hello(name, loud=False):\n",
        "    if loud:\n",
        "        print('HELLO, %s' % name.upper()\n",
        "    else:\n",
        "        print('Hello, %s!' % name\n",
        "\n",
        "hello('Bob')\n",
        "hello('Fred', loud=True)"
      ],
      "execution_count": 0,
      "outputs": [
        {
          "output_type": "stream",
          "text": [
            "Hello, Bob!\n",
            "HELLO, FRED\n"
          ],
          "name": "stdout"
        }
      ]
    },
    {
      "metadata": {
        "id": "i6klEuVLvQo0",
        "colab_type": "text"
      },
      "cell_type": "markdown",
      "source": [
        "###Classes"
      ]
    },
    {
      "metadata": {
        "id": "N_U5nIEBvQo1",
        "colab_type": "text"
      },
      "cell_type": "markdown",
      "source": [
        "The syntax for defining classes in Python is straightforward:"
      ]
    },
    {
      "metadata": {
        "id": "toZ0itMHvQo3",
        "colab_type": "code",
        "colab": {},
        "outputId": "66eee0bd-395b-4220-ed4a-c9e41906d8ca"
      },
      "cell_type": "code",
      "source": [
        "class Greeter:\n",
        "\n",
        "    # Constructor\n",
        "    def __init__(self, name):\n",
        "        self.name = name  # Create an instance variable\n",
        "\n",
        "    # Instance method\n",
        "    def greet(self, loud=False):\n",
        "        if loud:\n",
        "            print('HELLO, %s!' % self.name.upper()\n",
        "        else:\n",
        "            print('Hello, %s' % self.name\n",
        "\n",
        "g = Greeter('Fred')  # Construct an instance of the Greeter class\n",
        "g.greet()            # Call an instance method; prints \"Hello, Fred\"\n",
        "g.greet(loud=True)   # Call an instance method; prints \"HELLO, FRED!\""
      ],
      "execution_count": 0,
      "outputs": [
        {
          "output_type": "stream",
          "text": [
            "Hello, Fred\n",
            "HELLO, FRED!\n"
          ],
          "name": "stdout"
        }
      ]
    },
    {
      "metadata": {
        "id": "Ak_Gi3d-vQo5",
        "colab_type": "text"
      },
      "cell_type": "markdown",
      "source": [
        "##Numpy"
      ]
    },
    {
      "metadata": {
        "id": "KCkZOZAavQo5",
        "colab_type": "text"
      },
      "cell_type": "markdown",
      "source": [
        "Numpy is the core library for scientific computing in Python. It provides a high-performance multidimensional array object, and tools for working with these arrays. If you are already familiar with MATLAB, you might find this [tutorial](http://wiki.scipy.org/NumPy_for_Matlab_Users) useful to get started with Numpy."
      ]
    },
    {
      "metadata": {
        "id": "pN0qtNaIvQo6",
        "colab_type": "text"
      },
      "cell_type": "markdown",
      "source": [
        "To use Numpy, we first need to import the `numpy` package:"
      ]
    },
    {
      "metadata": {
        "id": "KwjtVg_BvQo6",
        "colab_type": "code",
        "colab": {}
      },
      "cell_type": "code",
      "source": [
        "import numpy as np"
      ],
      "execution_count": 0,
      "outputs": []
    },
    {
      "metadata": {
        "id": "lRZ4BPZIvQo8",
        "colab_type": "text"
      },
      "cell_type": "markdown",
      "source": [
        "###Arrays"
      ]
    },
    {
      "metadata": {
        "id": "98SNMUTlvQo9",
        "colab_type": "text"
      },
      "cell_type": "markdown",
      "source": [
        "A numpy array is a grid of values, all of the same type, and is indexed by a tuple of nonnegative integers. The number of dimensions is the rank of the array; the shape of an array is a tuple of integers giving the size of the array along each dimension."
      ]
    },
    {
      "metadata": {
        "id": "Efoo0CUBvQo9",
        "colab_type": "text"
      },
      "cell_type": "markdown",
      "source": [
        "We can initialize numpy arrays from nested Python lists, and access elements using square brackets:"
      ]
    },
    {
      "metadata": {
        "id": "0Xy3xU_RvQo_",
        "colab_type": "code",
        "colab": {},
        "outputId": "be08f017-11c1-4f34-d243-3c24ca2e64da"
      },
      "cell_type": "code",
      "source": [
        "a = np.array([1, 2, 3])  # Create a rank 1 array\n",
        "print(type(a), a.shape, a[0], a[1], a[2]\n",
        "a[0] = 5                 # Change an element of the array\n",
        "print(a                  "
      ],
      "execution_count": 0,
      "outputs": [
        {
          "output_type": "stream",
          "text": [
            "<type 'numpy.ndarray'> (3,) 1 2 3\n",
            "[5 2 3]\n"
          ],
          "name": "stdout"
        }
      ]
    },
    {
      "metadata": {
        "id": "ezK7WU95vQpA",
        "colab_type": "code",
        "colab": {},
        "outputId": "7fd06319-55cf-4d59-96c8-4a2a2a1100bb"
      },
      "cell_type": "code",
      "source": [
        "b = np.array([[1,2,3],[4,5,6]])   # Create a rank 2 array\n",
        "print(b"
      ],
      "execution_count": 0,
      "outputs": [
        {
          "output_type": "stream",
          "text": [
            "[[1 2 3]\n",
            " [4 5 6]]\n"
          ],
          "name": "stdout"
        }
      ]
    },
    {
      "metadata": {
        "id": "gD6Fei0BvQpD",
        "colab_type": "code",
        "colab": {},
        "outputId": "dcdac88a-815e-452d-ac0f-1318bc4d7c54"
      },
      "cell_type": "code",
      "source": [
        "print(b.shape                   \n",
        "print(b[0, 0], b[0, 1], b[1, 0]"
      ],
      "execution_count": 0,
      "outputs": [
        {
          "output_type": "stream",
          "text": [
            "(2, 3)\n",
            "1 2 4\n"
          ],
          "name": "stdout"
        }
      ]
    },
    {
      "metadata": {
        "id": "gBQinOrBvQpE",
        "colab_type": "text"
      },
      "cell_type": "markdown",
      "source": [
        "Numpy also provides many functions to create arrays:"
      ]
    },
    {
      "metadata": {
        "id": "4Fk7LXlGvQpF",
        "colab_type": "code",
        "colab": {},
        "outputId": "88ad03ff-bf52-4c35-80a8-5fea46fd4bdf"
      },
      "cell_type": "code",
      "source": [
        "a = np.zeros((2,2))  # Create an array of all zeros\n",
        "print(a"
      ],
      "execution_count": 0,
      "outputs": [
        {
          "output_type": "stream",
          "text": [
            "[[ 0.  0.]\n",
            " [ 0.  0.]]\n"
          ],
          "name": "stdout"
        }
      ]
    },
    {
      "metadata": {
        "id": "EH7Uj8ryvQpI",
        "colab_type": "code",
        "colab": {},
        "outputId": "f97d9ab2-896e-4405-910f-4a6ec3539683"
      },
      "cell_type": "code",
      "source": [
        "b = np.ones((1,2))   # Create an array of all ones\n",
        "print(b"
      ],
      "execution_count": 0,
      "outputs": [
        {
          "output_type": "stream",
          "text": [
            "[[ 1.  1.]]\n"
          ],
          "name": "stdout"
        }
      ]
    },
    {
      "metadata": {
        "id": "61dVWl2BvQpK",
        "colab_type": "code",
        "colab": {},
        "outputId": "7e27a49b-bcfe-4f2f-a2ce-30acea2d8d3d"
      },
      "cell_type": "code",
      "source": [
        "c = np.full((2,2), 7) # Create a constant array\n",
        "print(c "
      ],
      "execution_count": 0,
      "outputs": [
        {
          "output_type": "stream",
          "text": [
            "[[ 7.  7.]\n",
            " [ 7.  7.]]\n"
          ],
          "name": "stdout"
        }
      ]
    },
    {
      "metadata": {
        "id": "H2W7qtGsvQpM",
        "colab_type": "code",
        "colab": {},
        "outputId": "f38c4c86-c1d8-4976-c58d-6b59d04956a5"
      },
      "cell_type": "code",
      "source": [
        "d = np.eye(2)        # Create a 2x2 identity matrix\n",
        "print(d"
      ],
      "execution_count": 0,
      "outputs": [
        {
          "output_type": "stream",
          "text": [
            "[[ 1.  0.]\n",
            " [ 0.  1.]]\n"
          ],
          "name": "stdout"
        }
      ]
    },
    {
      "metadata": {
        "id": "PW3EcrVZvQpO",
        "colab_type": "code",
        "colab": {},
        "outputId": "2af39cbc-ce66-4caa-f18e-6ebf4b35d9cf"
      },
      "cell_type": "code",
      "source": [
        "e = np.random.random((2,2)) # Create an array filled with random values\n",
        "print(e"
      ],
      "execution_count": 0,
      "outputs": [
        {
          "output_type": "stream",
          "text": [
            "[[ 0.09477679  0.79267634]\n",
            " [ 0.78291274  0.38962829]]\n"
          ],
          "name": "stdout"
        }
      ]
    },
    {
      "metadata": {
        "id": "wK3Npnm0vQpP",
        "colab_type": "text"
      },
      "cell_type": "markdown",
      "source": [
        "###Array indexing"
      ]
    },
    {
      "metadata": {
        "id": "-8SDjCFsvQpQ",
        "colab_type": "text"
      },
      "cell_type": "markdown",
      "source": [
        "Numpy offers several ways to index into arrays."
      ]
    },
    {
      "metadata": {
        "id": "KkfSZSObvQpR",
        "colab_type": "text"
      },
      "cell_type": "markdown",
      "source": [
        "Slicing: Similar to Python lists, numpy arrays can be sliced. Since arrays may be multidimensional, you must specify a slice for each dimension of the array:"
      ]
    },
    {
      "metadata": {
        "id": "MgFnG2OfvQpS",
        "colab_type": "code",
        "colab": {},
        "outputId": "3463de8a-90cd-46a6-cf4d-cb719975ac3e"
      },
      "cell_type": "code",
      "source": [
        "import numpy as np\n",
        "\n",
        "# Create the following rank 2 array with shape (3, 4)\n",
        "# [[ 1  2  3  4]\n",
        "#  [ 5  6  7  8]\n",
        "#  [ 9 10 11 12]]\n",
        "a = np.array([[1,2,3,4], [5,6,7,8], [9,10,11,12]])\n",
        "\n",
        "# Use slicing to pull out the subarray consisting of the first 2 rows\n",
        "# and columns 1 and 2; b is the following array of shape (2, 2):\n",
        "# [[2 3]\n",
        "#  [6 7]]\n",
        "b = a[:2, 1:3]\n",
        "print(b"
      ],
      "execution_count": 0,
      "outputs": [
        {
          "output_type": "stream",
          "text": [
            "[[2 3]\n",
            " [6 7]]\n"
          ],
          "name": "stdout"
        }
      ]
    },
    {
      "metadata": {
        "id": "pPXAK5DyvQpT",
        "colab_type": "text"
      },
      "cell_type": "markdown",
      "source": [
        "A slice of an array is a view into the same data, so modifying it will modify the original array."
      ]
    },
    {
      "metadata": {
        "id": "gP4Kj3EhvQpT",
        "colab_type": "code",
        "colab": {},
        "outputId": "e9d6c795-f388-4cee-89dd-580d0ae943a5"
      },
      "cell_type": "code",
      "source": [
        "print(a[0, 1]  \n",
        "b[0, 0] = 77    # b[0, 0] is the same piece of data as a[0, 1]\n",
        "print(a[0, 1] "
      ],
      "execution_count": 0,
      "outputs": [
        {
          "output_type": "stream",
          "text": [
            "2\n",
            "77\n"
          ],
          "name": "stdout"
        }
      ]
    },
    {
      "metadata": {
        "id": "s4Yge4S6vQpV",
        "colab_type": "text"
      },
      "cell_type": "markdown",
      "source": [
        "You can also mix integer indexing with slice indexing. However, doing so will yield an array of lower rank than the original array. Note that this is quite different from the way that MATLAB handles array slicing:"
      ]
    },
    {
      "metadata": {
        "id": "sVzI6wdYvQpY",
        "colab_type": "code",
        "colab": {},
        "outputId": "4017a01a-1f3c-4a4a-a08e-8868992568b1"
      },
      "cell_type": "code",
      "source": [
        "# Create the following rank 2 array with shape (3, 4)\n",
        "a = np.array([[1,2,3,4], [5,6,7,8], [9,10,11,12]])\n",
        "print(a"
      ],
      "execution_count": 0,
      "outputs": [
        {
          "output_type": "stream",
          "text": [
            "[[ 1  2  3  4]\n",
            " [ 5  6  7  8]\n",
            " [ 9 10 11 12]]\n"
          ],
          "name": "stdout"
        }
      ]
    },
    {
      "metadata": {
        "id": "RLfzl2QAvQpZ",
        "colab_type": "text"
      },
      "cell_type": "markdown",
      "source": [
        "Two ways of accessing the data in the middle row of the array.\n",
        "Mixing integer indexing with slices yields an array of lower rank,\n",
        "while using only slices yields an array of the same rank as the\n",
        "original array:"
      ]
    },
    {
      "metadata": {
        "id": "M09eHdwCvQpZ",
        "colab_type": "code",
        "colab": {},
        "outputId": "d5145bd2-806e-43c4-b4a4-85a27a4ceab2"
      },
      "cell_type": "code",
      "source": [
        "row_r1 = a[1, :]    # Rank 1 view of the second row of a  \n",
        "row_r2 = a[1:2, :]  # Rank 2 view of the second row of a\n",
        "row_r3 = a[[1], :]  # Rank 2 view of the second row of a\n",
        "print(row_r1, row_r1.shape \n",
        "print(row_r2, row_r2.shape\n",
        "print(row_r3, row_r3.shape"
      ],
      "execution_count": 0,
      "outputs": [
        {
          "output_type": "stream",
          "text": [
            "[ 4  5 26] (3,)\n",
            "[[ 4  5 26]] (1, 3)\n",
            "[[ 4  5 26]] (1, 3)\n"
          ],
          "name": "stdout"
        }
      ]
    },
    {
      "metadata": {
        "id": "MwCluiL2vQpd",
        "colab_type": "code",
        "colab": {},
        "outputId": "66094301-06ba-486c-bdac-bb9293f312df"
      },
      "cell_type": "code",
      "source": [
        "# We can make the same distinction when accessing columns of an array:\n",
        "col_r1 = a[:, 1]\n",
        "col_r2 = a[:, 1:2]\n",
        "print(col_r1, col_r1.shape\n",
        "print\n",
        "print(col_r2, col_r2.shape"
      ],
      "execution_count": 0,
      "outputs": [
        {
          "output_type": "stream",
          "text": [
            "[ 2  6 10] (3,)\n",
            "\n",
            "[[ 2]\n",
            " [ 6]\n",
            " [10]] (3, 1)\n"
          ],
          "name": "stdout"
        }
      ]
    },
    {
      "metadata": {
        "id": "JncPjC06vQpe",
        "colab_type": "text"
      },
      "cell_type": "markdown",
      "source": [
        "Integer array indexing: When you index into numpy arrays using slicing, the resulting array view will always be a subarray of the original array. In contrast, integer array indexing allows you to construct arbitrary arrays using the data from another array. Here is an example:"
      ]
    },
    {
      "metadata": {
        "id": "Sj8oRy_JvQpf",
        "colab_type": "code",
        "colab": {},
        "outputId": "36697e44-d861-48ff-fd53-2315b47d5dfb"
      },
      "cell_type": "code",
      "source": [
        "a = np.array([[1,2], [3, 4], [5, 6]])\n",
        "\n",
        "# An example of integer array indexing.\n",
        "# The returned array will have shape (3,) and \n",
        "print(a[[0, 1, 2], [0, 1, 0]]\n",
        "\n",
        "# The above example of integer array indexing is equivalent to this:\n",
        "print(np.array([a[0, 0], a[1, 1], a[2, 0]])"
      ],
      "execution_count": 0,
      "outputs": [
        {
          "output_type": "stream",
          "text": [
            "[1 4 5]\n",
            "[1 4 5]\n"
          ],
          "name": "stdout"
        }
      ]
    },
    {
      "metadata": {
        "id": "TIfVDvZpvQph",
        "colab_type": "code",
        "colab": {},
        "outputId": "dbea0c2f-34f2-4a73-a3fa-ea14271394e2"
      },
      "cell_type": "code",
      "source": [
        "# When using integer array indexing, you can reuse the same\n",
        "# element from the source array:\n",
        "print(a[[0, 0], [1, 1]]\n",
        "\n",
        "# Equivalent to the previous integer array indexing example\n",
        "print(np.array([a[0, 1], a[0, 1]])"
      ],
      "execution_count": 0,
      "outputs": [
        {
          "output_type": "stream",
          "text": [
            "[2 2]\n",
            "[2 2]\n"
          ],
          "name": "stdout"
        }
      ]
    },
    {
      "metadata": {
        "id": "G2unfP9BvQpi",
        "colab_type": "text"
      },
      "cell_type": "markdown",
      "source": [
        "One useful trick with integer array indexing is selecting or mutating one element from each row of a matrix:"
      ]
    },
    {
      "metadata": {
        "id": "P8BAnxYEvQpj",
        "colab_type": "code",
        "colab": {},
        "outputId": "bb7d9e21-d404-4875-cdc7-c2367b0ba67f"
      },
      "cell_type": "code",
      "source": [
        "# Create a new array from which we will select elements\n",
        "a = np.array([[1,2,3], [4,5,6], [7,8,9], [10, 11, 12]])\n",
        "print(a"
      ],
      "execution_count": 0,
      "outputs": [
        {
          "output_type": "stream",
          "text": [
            "[[ 1  2  3]\n",
            " [ 4  5  6]\n",
            " [ 7  8  9]\n",
            " [10 11 12]]\n"
          ],
          "name": "stdout"
        }
      ]
    },
    {
      "metadata": {
        "id": "w8QpKfVGvQpk",
        "colab_type": "code",
        "colab": {},
        "outputId": "426f7250-7e34-486c-8938-1debaf6b1d49"
      },
      "cell_type": "code",
      "source": [
        "# Create an array of indices\n",
        "b = np.array([0, 2, 0, 1])\n",
        "\n",
        "# Select one element from each row of a using the indices in b\n",
        "print(a[np.arange(4), b]  # Prints \"[ 1  6  7 11]\""
      ],
      "execution_count": 0,
      "outputs": [
        {
          "output_type": "stream",
          "text": [
            "[ 1  6  7 11]\n"
          ],
          "name": "stdout"
        }
      ]
    },
    {
      "metadata": {
        "id": "ThOO2PHlvQpm",
        "colab_type": "code",
        "colab": {},
        "outputId": "c09a5c29-fa94-4739-eac3-c322190627b0"
      },
      "cell_type": "code",
      "source": [
        "# Mutate one element from each row of a using the indices in b\n",
        "a[np.arange(4), b] += 10\n",
        "print(a"
      ],
      "execution_count": 0,
      "outputs": [
        {
          "output_type": "stream",
          "text": [
            "[[11  2  3]\n",
            " [ 4  5 16]\n",
            " [17  8  9]\n",
            " [10 21 12]]\n"
          ],
          "name": "stdout"
        }
      ]
    },
    {
      "metadata": {
        "id": "ZdGd8S0yvQpp",
        "colab_type": "text"
      },
      "cell_type": "markdown",
      "source": [
        "Boolean array indexing: Boolean array indexing lets you pick out arbitrary elements of an array. Frequently this type of indexing is used to select the elements of an array that satisfy some condition. Here is an example:"
      ]
    },
    {
      "metadata": {
        "id": "drDsX623vQpp",
        "colab_type": "code",
        "colab": {},
        "outputId": "3a28050d-79ea-4235-d48a-515ebeafc813"
      },
      "cell_type": "code",
      "source": [
        "import numpy as np\n",
        "\n",
        "a = np.array([[1,2], [3, 4], [5, 6]])\n",
        "\n",
        "bool_idx = (a > 2)  # Find the elements of a that are bigger than 2;\n",
        "                    # this returns a numpy array of Booleans of the same\n",
        "                    # shape as a, where each slot of bool_idx tells\n",
        "                    # whether that element of a is > 2.\n",
        "\n",
        "print(bool_idx"
      ],
      "execution_count": 0,
      "outputs": [
        {
          "output_type": "stream",
          "text": [
            "[[False False]\n",
            " [ True  True]\n",
            " [ True  True]]\n"
          ],
          "name": "stdout"
        }
      ]
    },
    {
      "metadata": {
        "id": "aFccvdWgvQpq",
        "colab_type": "code",
        "colab": {},
        "outputId": "7e2cab26-091c-4c6d-f769-3c8c2c92946e"
      },
      "cell_type": "code",
      "source": [
        "# We use boolean array indexing to construct a rank 1 array\n",
        "# consisting of the elements of a corresponding to the True values\n",
        "# of bool_idx\n",
        "print(a[bool_idx]\n",
        "\n",
        "# We can do all of the above in a single concise statement:\n",
        "print(a[a > 2]"
      ],
      "execution_count": 0,
      "outputs": [
        {
          "output_type": "stream",
          "text": [
            "[3 4 5 6]\n",
            "[3 4 5 6]\n"
          ],
          "name": "stdout"
        }
      ]
    },
    {
      "metadata": {
        "id": "-doPVb1zvQpr",
        "colab_type": "text"
      },
      "cell_type": "markdown",
      "source": [
        "For brevity we have left out a lot of details about numpy array indexing; if you want to know more you should read the documentation."
      ]
    },
    {
      "metadata": {
        "id": "CQjYWQn4vQpr",
        "colab_type": "text"
      },
      "cell_type": "markdown",
      "source": [
        "###Datatypes"
      ]
    },
    {
      "metadata": {
        "id": "viCsaj2SvQps",
        "colab_type": "text"
      },
      "cell_type": "markdown",
      "source": [
        "Every numpy array is a grid of elements of the same type. Numpy provides a large set of numeric datatypes that you can use to construct arrays. Numpy tries to guess a datatype when you create an array, but functions that construct arrays usually also include an optional argument to explicitly specify the datatype. Here is an example:"
      ]
    },
    {
      "metadata": {
        "id": "Jmv8xmdYvQps",
        "colab_type": "code",
        "colab": {},
        "outputId": "2b70aca0-9e13-47b8-c058-eb7bc1066f3f"
      },
      "cell_type": "code",
      "source": [
        "x = np.array([1, 2])  # Let numpy choose the datatype\n",
        "y = np.array([1.0, 2.0])  # Let numpy choose the datatype\n",
        "z = np.array([1, 2], dtype=np.int64)  # Force a particular datatype\n",
        "\n",
        "print(x.dtype, y.dtype, z.dtype"
      ],
      "execution_count": 0,
      "outputs": [
        {
          "output_type": "stream",
          "text": [
            "int64 float64 int64\n"
          ],
          "name": "stdout"
        }
      ]
    },
    {
      "metadata": {
        "id": "7SAjW5mXvQpt",
        "colab_type": "text"
      },
      "cell_type": "markdown",
      "source": [
        "You can read all about numpy datatypes in the [documentation](http://docs.scipy.org/doc/numpy/reference/arrays.dtypes.html)."
      ]
    },
    {
      "metadata": {
        "id": "tf_dDdOwvQpu",
        "colab_type": "text"
      },
      "cell_type": "markdown",
      "source": [
        "###Array math"
      ]
    },
    {
      "metadata": {
        "id": "5a85aOX2vQpu",
        "colab_type": "text"
      },
      "cell_type": "markdown",
      "source": [
        "Basic mathematical functions operate elementwise on arrays, and are available both as operator overloads and as functions in the numpy module:"
      ]
    },
    {
      "metadata": {
        "id": "NK06SAg3vQpu",
        "colab_type": "code",
        "colab": {},
        "outputId": "ad2c1686-7b14-4d44-c8e6-b53bd0c27f2f"
      },
      "cell_type": "code",
      "source": [
        "x = np.array([[1,2],[3,4]], dtype=np.float64)\n",
        "y = np.array([[5,6],[7,8]], dtype=np.float64)\n",
        "\n",
        "# Elementwise sum; both produce the array\n",
        "print(x + y\n",
        "print(np.add(x, y)"
      ],
      "execution_count": 0,
      "outputs": [
        {
          "output_type": "stream",
          "text": [
            "[[  6.   8.]\n",
            " [ 10.  12.]]\n",
            "[[  6.   8.]\n",
            " [ 10.  12.]]\n"
          ],
          "name": "stdout"
        }
      ]
    },
    {
      "metadata": {
        "id": "yoWUIhohvQpw",
        "colab_type": "code",
        "colab": {},
        "outputId": "f3cb7346-5c79-43e3-c36a-ded40b98553a"
      },
      "cell_type": "code",
      "source": [
        "# Elementwise difference; both produce the array\n",
        "print(x - y\n",
        "print(np.subtract(x, y)"
      ],
      "execution_count": 0,
      "outputs": [
        {
          "output_type": "stream",
          "text": [
            "[[-4. -4.]\n",
            " [-4. -4.]]\n",
            "[[-4. -4.]\n",
            " [-4. -4.]]\n"
          ],
          "name": "stdout"
        }
      ]
    },
    {
      "metadata": {
        "id": "lwaYsMiMvQpy",
        "colab_type": "code",
        "colab": {},
        "outputId": "0c1d6abe-1600-4d64-db9f-57b9ae578524"
      },
      "cell_type": "code",
      "source": [
        "# Elementwise product; both produce the array\n",
        "print(x * y\n",
        "print(np.multiply(x, y)"
      ],
      "execution_count": 0,
      "outputs": [
        {
          "output_type": "stream",
          "text": [
            "[[  5.  12.]\n",
            " [ 21.  32.]]\n",
            "[[  5.  12.]\n",
            " [ 21.  32.]]\n"
          ],
          "name": "stdout"
        }
      ]
    },
    {
      "metadata": {
        "id": "jMyXQBGFvQp0",
        "colab_type": "code",
        "colab": {},
        "outputId": "7dc75550-0b01-47b6-fe13-3e866355eeac"
      },
      "cell_type": "code",
      "source": [
        "# Elementwise division; both produce the array\n",
        "# [[ 0.2         0.33333333]\n",
        "#  [ 0.42857143  0.5       ]]\n",
        "print(x / y\n",
        "print(np.divide(x, y)"
      ],
      "execution_count": 0,
      "outputs": [
        {
          "output_type": "stream",
          "text": [
            "[[ 0.2         0.33333333]\n",
            " [ 0.42857143  0.5       ]]\n",
            "[[ 0.2         0.33333333]\n",
            " [ 0.42857143  0.5       ]]\n"
          ],
          "name": "stdout"
        }
      ]
    },
    {
      "metadata": {
        "id": "-pIYDyv4vQp1",
        "colab_type": "code",
        "colab": {},
        "outputId": "93b494f5-64e7-4c2c-aa4a-e3f183b0bf32"
      },
      "cell_type": "code",
      "source": [
        "# Elementwise square root; produces the array\n",
        "# [[ 1.          1.41421356]\n",
        "#  [ 1.73205081  2.        ]]\n",
        "print(np.sqrt(x)"
      ],
      "execution_count": 0,
      "outputs": [
        {
          "output_type": "stream",
          "text": [
            "[[ 1.          1.41421356]\n",
            " [ 1.73205081  2.        ]]\n"
          ],
          "name": "stdout"
        }
      ]
    },
    {
      "metadata": {
        "id": "3wZ55yKbvQp4",
        "colab_type": "text"
      },
      "cell_type": "markdown",
      "source": [
        "Note that unlike MATLAB, `*` is elementwise multiplication, not matrix multiplication. We instead use the dot function to compute inner products of vectors, to multiply a vector by a matrix, and to multiply matrices. dot is available both as a function in the numpy module and as an instance method of array objects:"
      ]
    },
    {
      "metadata": {
        "id": "Qt91pZ38vQp4",
        "colab_type": "code",
        "colab": {},
        "outputId": "bfbbdd97-d95f-44a9-b29f-530d91024cfc"
      },
      "cell_type": "code",
      "source": [
        "x = np.array([[1,2],[3,4]])\n",
        "y = np.array([[5,6],[7,8]])\n",
        "\n",
        "v = np.array([9,10])\n",
        "w = np.array([11, 12])\n",
        "\n",
        "# Inner product of vectors; both produce 219\n",
        "print(v.dot(w)\n",
        "print(np.dot(v, w)"
      ],
      "execution_count": 0,
      "outputs": [
        {
          "output_type": "stream",
          "text": [
            "219\n",
            "219\n"
          ],
          "name": "stdout"
        }
      ]
    },
    {
      "metadata": {
        "id": "vcb5CGqUvQp5",
        "colab_type": "code",
        "colab": {},
        "outputId": "5b4fb2d3-d4a2-415c-f0d4-c63f476ac8d3"
      },
      "cell_type": "code",
      "source": [
        "# Matrix / vector product; both produce the rank 1 array [29 67]\n",
        "print(x.dot(v)\n",
        "print(np.dot(x, v)"
      ],
      "execution_count": 0,
      "outputs": [
        {
          "output_type": "stream",
          "text": [
            "[29 67]\n",
            "[29 67]\n"
          ],
          "name": "stdout"
        }
      ]
    },
    {
      "metadata": {
        "id": "eV-H8GyNvQp7",
        "colab_type": "code",
        "colab": {},
        "outputId": "a0faf594-c7eb-4e63-9709-8e1d98130137"
      },
      "cell_type": "code",
      "source": [
        "# Matrix / matrix product; both produce the rank 2 array\n",
        "# [[19 22]\n",
        "#  [43 50]]\n",
        "print(x.dot(y)\n",
        "print(np.dot(x, y)"
      ],
      "execution_count": 0,
      "outputs": [
        {
          "output_type": "stream",
          "text": [
            "[[19 22]\n",
            " [43 50]]\n",
            "[[19 22]\n",
            " [43 50]]\n"
          ],
          "name": "stdout"
        }
      ]
    },
    {
      "metadata": {
        "id": "ymGGPzpZvQp9",
        "colab_type": "text"
      },
      "cell_type": "markdown",
      "source": [
        "Numpy provides many useful functions for performing computations on arrays; one of the most useful is `sum`:"
      ]
    },
    {
      "metadata": {
        "id": "3DFpDA8fvQp9",
        "colab_type": "code",
        "colab": {},
        "outputId": "42e7dfea-a571-4bec-a166-eb243109dbf5"
      },
      "cell_type": "code",
      "source": [
        "x = np.array([[1,2],[3,4]])\n",
        "\n",
        "print(np.sum(x)  # Compute sum of all elements; prints \"10\"\n",
        "print(np.sum(x, axis=0)  # Compute sum of each column; prints \"[4 6]\"\n",
        "print(np.sum(x, axis=1)  # Compute sum of each row; prints \"[3 7]\""
      ],
      "execution_count": 0,
      "outputs": [
        {
          "output_type": "stream",
          "text": [
            "10\n",
            "[4 6]\n",
            "[3 7]\n"
          ],
          "name": "stdout"
        }
      ]
    },
    {
      "metadata": {
        "id": "aINa2ec_vQp_",
        "colab_type": "text"
      },
      "cell_type": "markdown",
      "source": [
        "You can find the full list of mathematical functions provided by numpy in the [documentation](http://docs.scipy.org/doc/numpy/reference/routines.math.html).\n",
        "\n",
        "Apart from computing mathematical functions using arrays, we frequently need to reshape or otherwise manipulate data in arrays. The simplest example of this type of operation is transposing a matrix; to transpose a matrix, simply use the T attribute of an array object:"
      ]
    },
    {
      "metadata": {
        "id": "sJFmAZkNvQp_",
        "colab_type": "code",
        "colab": {},
        "outputId": "d5f03d77-164f-48d8-c3c9-89b5616e3647"
      },
      "cell_type": "code",
      "source": [
        "print(x\n",
        "print(x.T"
      ],
      "execution_count": 0,
      "outputs": [
        {
          "output_type": "stream",
          "text": [
            "[[1 2]\n",
            " [3 4]]\n",
            "[[1 3]\n",
            " [2 4]]\n"
          ],
          "name": "stdout"
        }
      ]
    },
    {
      "metadata": {
        "id": "dt30ge85vQqB",
        "colab_type": "code",
        "colab": {},
        "outputId": "9ddcf0fa-9981-4f00-8b04-c29fbbcc0458"
      },
      "cell_type": "code",
      "source": [
        "v = np.array([[1,2,3]])\n",
        "print(v \n",
        "print(v.T"
      ],
      "execution_count": 0,
      "outputs": [
        {
          "output_type": "stream",
          "text": [
            "[1 2 3]\n",
            "[1 2 3]\n"
          ],
          "name": "stdout"
        }
      ]
    },
    {
      "metadata": {
        "id": "eu6TLt20vQqC",
        "colab_type": "text"
      },
      "cell_type": "markdown",
      "source": [
        "###Broadcasting"
      ]
    },
    {
      "metadata": {
        "id": "iEul3s5SvQqC",
        "colab_type": "text"
      },
      "cell_type": "markdown",
      "source": [
        "Broadcasting is a powerful mechanism that allows numpy to work with arrays of different shapes when performing arithmetic operations. Frequently we have a smaller array and a larger array, and we want to use the smaller array multiple times to perform some operation on the larger array.\n",
        "\n",
        "For example, suppose that we want to add a constant vector to each row of a matrix. We could do it like this:"
      ]
    },
    {
      "metadata": {
        "id": "lBaphb75vQqC",
        "colab_type": "code",
        "colab": {},
        "outputId": "d6df718a-50bf-42c2-980f-9e8789b0361a"
      },
      "cell_type": "code",
      "source": [
        "# We will add the vector v to each row of the matrix x,\n",
        "# storing the result in the matrix y\n",
        "x = np.array([[1,2,3], [4,5,6], [7,8,9], [10, 11, 12]])\n",
        "v = np.array([1, 0, 1])\n",
        "y = np.empty_like(x)   # Create an empty matrix with the same shape as x\n",
        "\n",
        "# Add the vector v to each row of the matrix x with an explicit loop\n",
        "for i in range(4):\n",
        "    y[i, :] = x[i, :] + v\n",
        "\n",
        "print(y"
      ],
      "execution_count": 0,
      "outputs": [
        {
          "output_type": "stream",
          "text": [
            "[[ 2  2  4]\n",
            " [ 5  5  7]\n",
            " [ 8  8 10]\n",
            " [11 11 13]]\n"
          ],
          "name": "stdout"
        }
      ]
    },
    {
      "metadata": {
        "id": "qPtyc5x1vQqE",
        "colab_type": "text"
      },
      "cell_type": "markdown",
      "source": [
        "This works; however when the matrix `x` is very large, computing an explicit loop in Python could be slow. Note that adding the vector v to each row of the matrix `x` is equivalent to forming a matrix `vv` by stacking multiple copies of `v` vertically, then performing elementwise summation of `x` and `vv`. We could implement this approach like this:"
      ]
    },
    {
      "metadata": {
        "id": "I2GSdGsgvQqE",
        "colab_type": "code",
        "colab": {},
        "outputId": "50c6feae-7483-41a0-b3b0-342be33c7b7d"
      },
      "cell_type": "code",
      "source": [
        "vv = np.tile(v, (4, 1))  # Stack 4 copies of v on top of each other\n",
        "print(vv                 # Prints \"[[1 0 1]\n",
        "                         #          [1 0 1]\n",
        "                         #          [1 0 1]\n",
        "                         #          [1 0 1]]\""
      ],
      "execution_count": 0,
      "outputs": [
        {
          "output_type": "stream",
          "text": [
            "[[1 0 1]\n",
            " [1 0 1]\n",
            " [1 0 1]\n",
            " [1 0 1]]\n"
          ],
          "name": "stdout"
        }
      ]
    },
    {
      "metadata": {
        "id": "lR_kUQpevQqI",
        "colab_type": "code",
        "colab": {},
        "outputId": "73b5c4e6-2cfc-45ce-ed05-7eb10920858f"
      },
      "cell_type": "code",
      "source": [
        "y = x + vv  # Add x and vv elementwise\n",
        "print(y"
      ],
      "execution_count": 0,
      "outputs": [
        {
          "output_type": "stream",
          "text": [
            "[[ 2  2  4]\n",
            " [ 5  5  7]\n",
            " [ 8  8 10]\n",
            " [11 11 13]]\n"
          ],
          "name": "stdout"
        }
      ]
    },
    {
      "metadata": {
        "id": "zvMEmZGPvQqJ",
        "colab_type": "text"
      },
      "cell_type": "markdown",
      "source": [
        "Numpy broadcasting allows us to perform this computation without actually creating multiple copies of v. Consider this version, using broadcasting:"
      ]
    },
    {
      "metadata": {
        "id": "AtaoDi7WvQqK",
        "colab_type": "code",
        "colab": {},
        "outputId": "e54a5b7b-d537-4ed1-9e01-e00d3f72f737"
      },
      "cell_type": "code",
      "source": [
        "import numpy as np\n",
        "\n",
        "# We will add the vector v to each row of the matrix x,\n",
        "# storing the result in the matrix y\n",
        "x = np.array([[1,2,3], [4,5,6], [7,8,9], [10, 11, 12]])\n",
        "v = np.array([1, 0, 1])\n",
        "y = x + v  # Add v to each row of x using broadcasting\n",
        "print(y"
      ],
      "execution_count": 0,
      "outputs": [
        {
          "output_type": "stream",
          "text": [
            "[[ 2  2  4]\n",
            " [ 5  5  7]\n",
            " [ 8  8 10]\n",
            " [11 11 13]]\n"
          ],
          "name": "stdout"
        }
      ]
    },
    {
      "metadata": {
        "id": "6XT4G4RqvQqM",
        "colab_type": "text"
      },
      "cell_type": "markdown",
      "source": [
        "The line `y = x + v` works even though `x` has shape `(4, 3)` and `v` has shape `(3,)` due to broadcasting; this line works as if v actually had shape `(4, 3)`, where each row was a copy of `v`, and the sum was performed elementwise.\n",
        "\n",
        "Broadcasting two arrays together follows these rules:\n",
        "\n",
        "1. If the arrays do not have the same rank, prepend the shape of the lower rank array with 1s until both shapes have the same length.\n",
        "2. The two arrays are said to be compatible in a dimension if they have the same size in the dimension, or if one of the arrays has size 1 in that dimension.\n",
        "3. The arrays can be broadcast together if they are compatible in all dimensions.\n",
        "4. After broadcasting, each array behaves as if it had shape equal to the elementwise maximum of shapes of the two input arrays.\n",
        "5. In any dimension where one array had size 1 and the other array had size greater than 1, the first array behaves as if it were copied along that dimension\n",
        "\n",
        "If this explanation does not make sense, try reading the explanation from the [documentation](http://docs.scipy.org/doc/numpy/user/basics.broadcasting.html) or this [explanation](http://wiki.scipy.org/EricsBroadcastingDoc).\n",
        "\n",
        "Functions that support broadcasting are known as universal functions. You can find the list of all universal functions in the [documentation](http://docs.scipy.org/doc/numpy/reference/ufuncs.html#available-ufuncs).\n",
        "\n",
        "Here are some applications of broadcasting:"
      ]
    },
    {
      "metadata": {
        "id": "WvSN8RNNvQqN",
        "colab_type": "code",
        "colab": {},
        "outputId": "907619c9-97a6-4fc9-e1f3-794df3ecbc27"
      },
      "cell_type": "code",
      "source": [
        "# Compute outer product of vectors\n",
        "v = np.array([1,2,3])  # v has shape (3,)\n",
        "w = np.array([4,5])    # w has shape (2,)\n",
        "# To compute an outer product, we first reshape v to be a column\n",
        "# vector of shape (3, 1); we can then broadcast it against w to yield\n",
        "# an output of shape (3, 2), which is the outer product of v and w:\n",
        "\n",
        "print(np.reshape(v, (3, 1)) * w"
      ],
      "execution_count": 0,
      "outputs": [
        {
          "output_type": "stream",
          "text": [
            "[[ 4  5]\n",
            " [ 8 10]\n",
            " [12 15]]\n"
          ],
          "name": "stdout"
        }
      ]
    },
    {
      "metadata": {
        "id": "MS_dnfmDvQqO",
        "colab_type": "code",
        "colab": {},
        "outputId": "9b6af2f2-44e8-40d2-9adf-81e52028e082"
      },
      "cell_type": "code",
      "source": [
        "# Add a vector to each row of a matrix\n",
        "x = np.array([[1,2,3], [4,5,6]])\n",
        "# x has shape (2, 3) and v has shape (3,) so they broadcast to (2, 3),\n",
        "# giving the following matrix:\n",
        "\n",
        "print(x + v"
      ],
      "execution_count": 0,
      "outputs": [
        {
          "output_type": "stream",
          "text": [
            "[[2 4 6]\n",
            " [5 7 9]]\n"
          ],
          "name": "stdout"
        }
      ]
    },
    {
      "metadata": {
        "id": "yxGI2475vQqP",
        "colab_type": "code",
        "colab": {},
        "outputId": "7dcbf617-2365-4370-cd02-c17277eba2f9"
      },
      "cell_type": "code",
      "source": [
        "# Add a vector to each column of a matrix\n",
        "# x has shape (2, 3) and w has shape (2,).\n",
        "# If we transpose x then it has shape (3, 2) and can be broadcast\n",
        "# against w to yield a result of shape (3, 2); transposing this result\n",
        "# yields the final result of shape (2, 3) which is the matrix x with\n",
        "# the vector w added to each column. Gives the following matrix:\n",
        "\n",
        "print((x.T + w).T"
      ],
      "execution_count": 0,
      "outputs": [
        {
          "output_type": "stream",
          "text": [
            "[[ 5  6  7]\n",
            " [ 9 10 11]]\n"
          ],
          "name": "stdout"
        }
      ]
    },
    {
      "metadata": {
        "id": "8ggPAD19vQqQ",
        "colab_type": "code",
        "colab": {},
        "outputId": "b4c4da36-89ad-4e7f-df5a-abb21b894cf8"
      },
      "cell_type": "code",
      "source": [
        "# Another solution is to reshape w to be a row vector of shape (2, 1);\n",
        "# we can then broadcast it directly against x to produce the same\n",
        "# output.\n",
        "print(x + np.reshape(w, (2, 1))"
      ],
      "execution_count": 0,
      "outputs": [
        {
          "output_type": "stream",
          "text": [
            "[[ 5  6  7]\n",
            " [ 9 10 11]]\n"
          ],
          "name": "stdout"
        }
      ]
    },
    {
      "metadata": {
        "id": "rdeuAt0mvQqT",
        "colab_type": "code",
        "colab": {},
        "outputId": "1418c18d-506f-4e74-e782-50fbdde91c32"
      },
      "cell_type": "code",
      "source": [
        "# Multiply a matrix by a constant:\n",
        "# x has shape (2, 3). Numpy treats scalars as arrays of shape ();\n",
        "# these can be broadcast together to shape (2, 3), producing the\n",
        "# following array:\n",
        "print(x * 2"
      ],
      "execution_count": 0,
      "outputs": [
        {
          "output_type": "stream",
          "text": [
            "[[ 2  4  6]\n",
            " [ 8 10 12]]\n"
          ],
          "name": "stdout"
        }
      ]
    },
    {
      "metadata": {
        "id": "zuzjZJKcvQqV",
        "colab_type": "text"
      },
      "cell_type": "markdown",
      "source": [
        "Broadcasting typically makes your code more concise and faster, so you should strive to use it where possible."
      ]
    },
    {
      "metadata": {
        "id": "5BKX-wGfvQqV",
        "colab_type": "text"
      },
      "cell_type": "markdown",
      "source": [
        "This brief overview has touched on many of the important things that you need to know about numpy, but is far from complete. Check out the [numpy reference](http://docs.scipy.org/doc/numpy/reference/) to find out much more about numpy."
      ]
    },
    {
      "metadata": {
        "id": "kPJRl77AvQqW",
        "colab_type": "text"
      },
      "cell_type": "markdown",
      "source": [
        "##Matplotlib"
      ]
    },
    {
      "metadata": {
        "id": "QgPMr1LSvQqW",
        "colab_type": "text"
      },
      "cell_type": "markdown",
      "source": [
        "Matplotlib is a plotting library. In this section give a brief introduction to the `matplotlib.pyplot` module, which provides a plotting system similar to that of MATLAB."
      ]
    },
    {
      "metadata": {
        "id": "8jF_HWPhvQqW",
        "colab_type": "code",
        "colab": {}
      },
      "cell_type": "code",
      "source": [
        "import matplotlib.pyplot as plt"
      ],
      "execution_count": 0,
      "outputs": []
    },
    {
      "metadata": {
        "id": "0ltC5-1QvQqX",
        "colab_type": "text"
      },
      "cell_type": "markdown",
      "source": [
        "By running this special iPython command, we will be displaying plots inline:"
      ]
    },
    {
      "metadata": {
        "id": "j0ZhsMWvvQqY",
        "colab_type": "code",
        "colab": {}
      },
      "cell_type": "code",
      "source": [
        "%matplotlib inline"
      ],
      "execution_count": 0,
      "outputs": []
    },
    {
      "metadata": {
        "id": "l4VyOhsLvQqY",
        "colab_type": "text"
      },
      "cell_type": "markdown",
      "source": [
        "###Plotting"
      ]
    },
    {
      "metadata": {
        "id": "olAPKTFgvQqY",
        "colab_type": "text"
      },
      "cell_type": "markdown",
      "source": [
        "The most important function in `matplotlib` is plot, which allows you to plot 2D data. Here is a simple example:"
      ]
    },
    {
      "metadata": {
        "id": "AwV9svxQvQqZ",
        "colab_type": "code",
        "colab": {},
        "outputId": "89063ef9-4f3a-49c3-86ef-3e3dd2545216"
      },
      "cell_type": "code",
      "source": [
        "# Compute the x and y coordinates for points on a sine curve\n",
        "x = np.arange(0, 3 * np.pi, 0.1)\n",
        "y = np.sin(x)\n",
        "\n",
        "# Plot the points using matplotlib\n",
        "plt.plot(x, y)"
      ],
      "execution_count": 0,
      "outputs": [
        {
          "output_type": "execute_result",
          "data": {},
          "metadata": {
            "tags": []
          },
          "execution_count": 252
        },
        {
          "output_type": "display_data",
          "data": {},
          "metadata": {
            "tags": []
          }
        }
      ]
    },
    {
      "metadata": {
        "id": "4v4uOlf0vQqa",
        "colab_type": "text"
      },
      "cell_type": "markdown",
      "source": [
        "With just a little bit of extra work we can easily plot multiple lines at once, and add a title, legend, and axis labels:"
      ]
    },
    {
      "metadata": {
        "id": "nJokGtU1vQqa",
        "colab_type": "code",
        "colab": {},
        "outputId": "f47329ec-7705-4138-df46-da7155172c99"
      },
      "cell_type": "code",
      "source": [
        "y_sin = np.sin(x)\n",
        "y_cos = np.cos(x)\n",
        "\n",
        "# Plot the points using matplotlib\n",
        "plt.plot(x, y_sin)\n",
        "plt.plot(x, y_cos)\n",
        "plt.xlabel('x axis label')\n",
        "plt.ylabel('y axis label')\n",
        "plt.title('Sine and Cosine')\n",
        "plt.legend(['Sine', 'Cosine'])"
      ],
      "execution_count": 0,
      "outputs": [
        {
          "output_type": "execute_result",
          "data": {},
          "metadata": {
            "tags": []
          },
          "execution_count": 254
        },
        {
          "output_type": "display_data",
          "data": {},
          "metadata": {
            "tags": []
          }
        }
      ]
    },
    {
      "metadata": {
        "id": "K5ASeMYOvQqd",
        "colab_type": "text"
      },
      "cell_type": "markdown",
      "source": [
        "###Subplots "
      ]
    },
    {
      "metadata": {
        "id": "7a1knUcBvQqd",
        "colab_type": "text"
      },
      "cell_type": "markdown",
      "source": [
        "You can plot different things in the same figure using the subplot function. Here is an example:"
      ]
    },
    {
      "metadata": {
        "id": "solNLZYzvQqd",
        "colab_type": "code",
        "colab": {},
        "outputId": "925ca867-57a5-4dc7-e760-8bcd548adfa7"
      },
      "cell_type": "code",
      "source": [
        "# Compute the x and y coordinates for points on sine and cosine curves\n",
        "x = np.arange(0, 3 * np.pi, 0.1)\n",
        "y_sin = np.sin(x)\n",
        "y_cos = np.cos(x)\n",
        "\n",
        "# Set up a subplot grid that has height 2 and width 1,\n",
        "# and set the first such subplot as active.\n",
        "plt.subplot(2, 1, 1)\n",
        "\n",
        "# Make the first plot\n",
        "plt.plot(x, y_sin)\n",
        "plt.title('Sine')\n",
        "\n",
        "# Set the second subplot as active, and make the second plot.\n",
        "plt.subplot(2, 1, 2)\n",
        "plt.plot(x, y_cos)\n",
        "plt.title('Cosine')\n",
        "\n",
        "# Show the figure.\n",
        "plt.show()"
      ],
      "execution_count": 0,
      "outputs": [
        {
          "output_type": "display_data",
          "data": {},
          "metadata": {
            "tags": []
          }
        }
      ]
    },
    {
      "metadata": {
        "id": "ZajkZgwFvQqe",
        "colab_type": "text"
      },
      "cell_type": "markdown",
      "source": [
        "You can read much more about the `subplot` function in the [documentation](http://matplotlib.org/api/pyplot_api.html#matplotlib.pyplot.subplot)."
      ]
    },
    {
      "metadata": {
        "id": "scGqHwG3vQqf",
        "colab_type": "code",
        "colab": {}
      },
      "cell_type": "code",
      "source": [
        ""
      ],
      "execution_count": 0,
      "outputs": []
    }
  ]
}
